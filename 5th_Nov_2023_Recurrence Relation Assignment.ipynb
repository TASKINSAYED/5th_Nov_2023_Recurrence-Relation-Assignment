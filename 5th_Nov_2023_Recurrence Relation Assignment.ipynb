{
 "cells": [
  {
   "cell_type": "markdown",
   "id": "9c6a0252-f814-4f80-8f58-909bf76281a6",
   "metadata": {},
   "source": [
    "## Recurrence Relation Assignment\n",
    "## Solution\n",
    "## Question no.1\n",
    "\n",
    "T(1)=3T(0)+12×1=3×5+12=15+12=27\n",
    "\n",
    "\n",
    "T(2)=3T(1)+12×2=3×27+12×2=81+24=105\n",
    "\n",
    "\n",
    "\n",
    "T(0)=5 is 105."
   ]
  },
  {
   "cell_type": "markdown",
   "id": "a093ab73-05f3-4901-9682-d2790701b96d",
   "metadata": {},
   "source": [
    "##Question no.2\n",
    "## A) \n",
    "T(n) = T(n-1) + c\n",
    "     = T(n-2) + c+c\n",
    "     = T(n-3) + c+c+c\n",
    "    = T(n-k) +c+c+c+c........+c\n",
    "    = 1+ (n-1)c\n",
    "    = 1+nc-c\n",
    "    = O(n)\n",
    "    \n"
   ]
  },
  {
   "cell_type": "markdown",
   "id": "b6f49a80-8836-4a8f-8028-de0c211692ce",
   "metadata": {},
   "source": [
    "## Question no.2\n",
    "## B) \n",
    "T(n) = 2T(n/2) + n\n",
    "     = 2[2T(n/4)+n/2] + n\n",
    "     = 2^2T(n/2^2)+n/2+n\n",
    "        =2T(n/2^2)+2n\n",
    "        =2T(n/4)+2n\n",
    "        =2[2T(n/8)+(n/4)]+2n\n",
    "        =(2^3)T(n/(2^3))+3n\n",
    "        =(2^4)T(n/(2^4))+4n\n",
    "        =(2^k)T(n/(2^k))+kn\n",
    "        =(2^k)T(1)+kn\n",
    "        =n(1)+nlogn\n",
    "        =O(nlogn)\n",
    "\n",
    "\n"
   ]
  },
  {
   "cell_type": "markdown",
   "id": "9493a002-21cf-459b-a83b-2c8b11e0b48c",
   "metadata": {},
   "source": [
    "## Question no.2\n",
    "## C)\n",
    "T(n) = 2T(n/2) + c\n",
    "     = 2[T(n/4)+c]+c\n",
    "     = 2T(n/2^2)+2c\n",
    "    = 2T(n/4)+2c\n",
    "    = 2[T(n/8)]+3c\n",
    "    = 2^3T(n/2^3)+3c\n",
    "    = 2^4T(n/2^4)+4c\n",
    "    = 2^kT(n/2^k)+kc\n",
    "    =  T(1)+kc\n",
    "    = 1+log2n\n",
    "    = O(log2n)\n",
    "    \n"
   ]
  },
  {
   "cell_type": "markdown",
   "id": "5ff8ab08-15de-4561-80c5-70b8d5eae1cf",
   "metadata": {},
   "source": [
    "## Question no.2\n",
    "## D) \n",
    "T(n) = T(n/2) + c\n",
    "     = T(n/4) + 2c\n",
    "     = T(n/8)+c+2c\n",
    "     = T(n/(2^3))+3c\n",
    "     = T(n/(2^4))+4c\n",
    "     = T(n/(2^k))+kc\n",
    "     = T(n/n)+kc\n",
    "     = T(1)+kc\n",
    "     = T(1)+log2nc\n",
    "     = 1+lognc\n",
    "     = O(log2n)\n"
   ]
  },
  {
   "cell_type": "markdown",
   "id": "793694c0-a7f1-4cdf-9f41-89bf474ca5b0",
   "metadata": {},
   "source": [
    "## Question no.3\n",
    "## A) \n",
    "T(n) = 2T(n-1) + 1\n",
    "\n",
    "T(n)\n",
    "\n",
    "      T(n)\n",
    "     /     \\\n",
    "T(n-1)   T(n-1)\n",
    "        \n",
    "    T(n)\n",
    "     /     \\\n",
    "T(n-1)   T(n-1)\n",
    "        /   \\\n",
    "   T(n-2) T(n-2)\n",
    "        \n",
    "    T(n)\n",
    "     /     \\\n",
    "T(n-1)   T(n-1)\n",
    "          |\n",
    "        T(1) = 1\n",
    "        \n",
    "        \n",
    "    T(n)\n",
    "     /     \\\n",
    "T(n-1)   T(n-1)\n",
    "|       |\n",
    "T(n-2)   T(n-2)\n",
    "  .         .\n",
    ".         .\n",
    "  |         |\n",
    "T(1) = 1  T(1) = 1\n",
    "\n",
    "\n"
   ]
  },
  {
   "cell_type": "markdown",
   "id": "1a5d3780-0eb4-4e24-ad2f-b4e6539980d4",
   "metadata": {},
   "source": [
    "## Question no.3\n",
    "## B)\n",
    "T(n) = 2T(n/2) + n\n",
    "\n",
    "T(n)\n",
    "      T(n)\n",
    "     /     \\\n",
    "T(n/2)   T(n/2)\n",
    "\n",
    "      \n",
    "    T(n)\n",
    "     /     \\\n",
    "T(n/2)   T(n/2)\n",
    "    / \\      / \\\n",
    "T(n/4)   T(n/4)\n",
    "\n",
    "\n",
    "         T(n)\n",
    "    /     \\\n",
    "T(n/2)    T(n/2)\n",
    "    /        \\\n",
    "T(1)        T(1)"
   ]
  }
 ],
 "metadata": {
  "kernelspec": {
   "display_name": "Python 3 (ipykernel)",
   "language": "python",
   "name": "python3"
  },
  "language_info": {
   "codemirror_mode": {
    "name": "ipython",
    "version": 3
   },
   "file_extension": ".py",
   "mimetype": "text/x-python",
   "name": "python",
   "nbconvert_exporter": "python",
   "pygments_lexer": "ipython3",
   "version": "3.10.8"
  }
 },
 "nbformat": 4,
 "nbformat_minor": 5
}
